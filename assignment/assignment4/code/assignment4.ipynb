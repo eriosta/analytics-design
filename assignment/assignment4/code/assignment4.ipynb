{
 "cells": [
  {
   "cell_type": "code",
   "execution_count": 1,
   "metadata": {},
   "outputs": [],
   "source": [
    "from main import MarketResearch"
   ]
  },
  {
   "cell_type": "code",
   "execution_count": 2,
   "metadata": {},
   "outputs": [],
   "source": [
    "mr = MarketResearch('pizzafem truncated.csv')"
   ]
  },
  {
   "attachments": {},
   "cell_type": "markdown",
   "metadata": {},
   "source": [
    "#### a.\tShow the contingency table.  Examining the table, is it easy to see relationships between race categories and pizza restaurants using this table?  \n",
    "\n",
    "We can see some trends but it is difficult to see relationships between race and pizza restaurants due to race imbalance."
   ]
  },
  {
   "cell_type": "code",
   "execution_count": 3,
   "metadata": {},
   "outputs": [
    {
     "data": {
      "text/html": [
       "<div>\n",
       "<style scoped>\n",
       "    .dataframe tbody tr th:only-of-type {\n",
       "        vertical-align: middle;\n",
       "    }\n",
       "\n",
       "    .dataframe tbody tr th {\n",
       "        vertical-align: top;\n",
       "    }\n",
       "\n",
       "    .dataframe thead th {\n",
       "        text-align: right;\n",
       "    }\n",
       "</style>\n",
       "<table border=\"1\" class=\"dataframe\">\n",
       "  <thead>\n",
       "    <tr style=\"text-align: right;\">\n",
       "      <th>pizza</th>\n",
       "      <th>1</th>\n",
       "      <th>2</th>\n",
       "      <th>3</th>\n",
       "      <th>4</th>\n",
       "    </tr>\n",
       "    <tr>\n",
       "      <th>RESP_RACE</th>\n",
       "      <th></th>\n",
       "      <th></th>\n",
       "      <th></th>\n",
       "      <th></th>\n",
       "    </tr>\n",
       "  </thead>\n",
       "  <tbody>\n",
       "    <tr>\n",
       "      <th>1</th>\n",
       "      <td>560</td>\n",
       "      <td>508</td>\n",
       "      <td>238</td>\n",
       "      <td>476</td>\n",
       "    </tr>\n",
       "    <tr>\n",
       "      <th>2</th>\n",
       "      <td>103</td>\n",
       "      <td>76</td>\n",
       "      <td>30</td>\n",
       "      <td>67</td>\n",
       "    </tr>\n",
       "    <tr>\n",
       "      <th>3</th>\n",
       "      <td>27</td>\n",
       "      <td>33</td>\n",
       "      <td>13</td>\n",
       "      <td>7</td>\n",
       "    </tr>\n",
       "    <tr>\n",
       "      <th>4</th>\n",
       "      <td>100</td>\n",
       "      <td>165</td>\n",
       "      <td>32</td>\n",
       "      <td>139</td>\n",
       "    </tr>\n",
       "  </tbody>\n",
       "</table>\n",
       "</div>"
      ],
      "text/plain": [
       "pizza        1    2    3    4\n",
       "RESP_RACE                    \n",
       "1          560  508  238  476\n",
       "2          103   76   30   67\n",
       "3           27   33   13    7\n",
       "4          100  165   32  139"
      ]
     },
     "execution_count": 3,
     "metadata": {},
     "output_type": "execute_result"
    }
   ],
   "source": [
    "mr.contingency_table"
   ]
  },
  {
   "attachments": {},
   "cell_type": "markdown",
   "metadata": {},
   "source": [
    "#### b.\tGenerate and show a table that shows the expected frequencies for each cell."
   ]
  },
  {
   "cell_type": "code",
   "execution_count": 4,
   "metadata": {},
   "outputs": [
    {
     "data": {
      "text/html": [
       "<div>\n",
       "<style scoped>\n",
       "    .dataframe tbody tr th:only-of-type {\n",
       "        vertical-align: middle;\n",
       "    }\n",
       "\n",
       "    .dataframe tbody tr th {\n",
       "        vertical-align: top;\n",
       "    }\n",
       "\n",
       "    .dataframe thead th {\n",
       "        text-align: right;\n",
       "    }\n",
       "</style>\n",
       "<table border=\"1\" class=\"dataframe\">\n",
       "  <thead>\n",
       "    <tr style=\"text-align: right;\">\n",
       "      <th>pizza</th>\n",
       "      <th>1</th>\n",
       "      <th>2</th>\n",
       "      <th>3</th>\n",
       "      <th>4</th>\n",
       "    </tr>\n",
       "    <tr>\n",
       "      <th>RESP_RACE</th>\n",
       "      <th></th>\n",
       "      <th></th>\n",
       "      <th></th>\n",
       "      <th></th>\n",
       "    </tr>\n",
       "  </thead>\n",
       "  <tbody>\n",
       "    <tr>\n",
       "      <th>1</th>\n",
       "      <td>546.923077</td>\n",
       "      <td>541.384615</td>\n",
       "      <td>216.692308</td>\n",
       "      <td>477.000000</td>\n",
       "    </tr>\n",
       "    <tr>\n",
       "      <th>2</th>\n",
       "      <td>84.708625</td>\n",
       "      <td>83.850816</td>\n",
       "      <td>33.561772</td>\n",
       "      <td>73.878788</td>\n",
       "    </tr>\n",
       "    <tr>\n",
       "      <th>3</th>\n",
       "      <td>24.553225</td>\n",
       "      <td>24.304584</td>\n",
       "      <td>9.728050</td>\n",
       "      <td>21.414141</td>\n",
       "    </tr>\n",
       "    <tr>\n",
       "      <th>4</th>\n",
       "      <td>133.815074</td>\n",
       "      <td>132.459984</td>\n",
       "      <td>53.017871</td>\n",
       "      <td>116.707071</td>\n",
       "    </tr>\n",
       "  </tbody>\n",
       "</table>\n",
       "</div>"
      ],
      "text/plain": [
       "pizza               1           2           3           4\n",
       "RESP_RACE                                                \n",
       "1          546.923077  541.384615  216.692308  477.000000\n",
       "2           84.708625   83.850816   33.561772   73.878788\n",
       "3           24.553225   24.304584    9.728050   21.414141\n",
       "4          133.815074  132.459984   53.017871  116.707071"
      ]
     },
     "execution_count": 4,
     "metadata": {},
     "output_type": "execute_result"
    }
   ],
   "source": [
    "# calculate and print the expected frequencies of the contingency table\n",
    "mr.expected_frequencies()"
   ]
  },
  {
   "attachments": {},
   "cell_type": "markdown",
   "metadata": {},
   "source": [
    "#### c.\tGenerate and show a table that shows the chi square contribution to the total chi square for the table for each cell in the contingency table.  Which cell contributes the most to the total chi square?  Which cell contributes the least to the total chi square for the table?\n",
    "\n",
    "- Highest: Asian race category and Little Caesars \n",
    "- Lowest: White race category and Little Caesars"
   ]
  },
  {
   "cell_type": "code",
   "execution_count": 12,
   "metadata": {},
   "outputs": [
    {
     "data": {
      "text/html": [
       "<div>\n",
       "<style scoped>\n",
       "    .dataframe tbody tr th:only-of-type {\n",
       "        vertical-align: middle;\n",
       "    }\n",
       "\n",
       "    .dataframe tbody tr th {\n",
       "        vertical-align: top;\n",
       "    }\n",
       "\n",
       "    .dataframe thead th {\n",
       "        text-align: right;\n",
       "    }\n",
       "</style>\n",
       "<table border=\"1\" class=\"dataframe\">\n",
       "  <thead>\n",
       "    <tr style=\"text-align: right;\">\n",
       "      <th>pizza</th>\n",
       "      <th>1</th>\n",
       "      <th>2</th>\n",
       "      <th>3</th>\n",
       "      <th>4</th>\n",
       "    </tr>\n",
       "    <tr>\n",
       "      <th>RESP_RACE</th>\n",
       "      <th></th>\n",
       "      <th></th>\n",
       "      <th></th>\n",
       "      <th></th>\n",
       "    </tr>\n",
       "  </thead>\n",
       "  <tbody>\n",
       "    <tr>\n",
       "      <th>1</th>\n",
       "      <td>0.312669</td>\n",
       "      <td>2.058671</td>\n",
       "      <td>2.095219</td>\n",
       "      <td>0.002096</td>\n",
       "    </tr>\n",
       "    <tr>\n",
       "      <th>2</th>\n",
       "      <td>3.949709</td>\n",
       "      <td>0.735059</td>\n",
       "      <td>0.377996</td>\n",
       "      <td>0.640478</td>\n",
       "    </tr>\n",
       "    <tr>\n",
       "      <th>3</th>\n",
       "      <td>0.243826</td>\n",
       "      <td>3.110946</td>\n",
       "      <td>1.100494</td>\n",
       "      <td>9.702349</td>\n",
       "    </tr>\n",
       "    <tr>\n",
       "      <th>4</th>\n",
       "      <td>8.545070</td>\n",
       "      <td>7.993755</td>\n",
       "      <td>8.332113</td>\n",
       "      <td>4.258308</td>\n",
       "    </tr>\n",
       "  </tbody>\n",
       "</table>\n",
       "</div>"
      ],
      "text/plain": [
       "pizza             1         2         3         4\n",
       "RESP_RACE                                        \n",
       "1          0.312669  2.058671  2.095219  0.002096\n",
       "2          3.949709  0.735059  0.377996  0.640478\n",
       "3          0.243826  3.110946  1.100494  9.702349\n",
       "4          8.545070  7.993755  8.332113  4.258308"
      ]
     },
     "execution_count": 12,
     "metadata": {},
     "output_type": "execute_result"
    }
   ],
   "source": [
    "# calculate and print the chi-square contributions of the contingency table\n",
    "mr.chi_square_contributions()"
   ]
  },
  {
   "attachments": {},
   "cell_type": "markdown",
   "metadata": {},
   "source": [
    "#### d.\tUsing the total chi square for the table, calculate the degrees of freedom for the total chi square, find the critical value in the chi square table for those degrees of freedom and state the total chi square for the table from part c above.  Can you reject the null hypothesis that there is no relationship between race and pizza restaurant?\n",
    "\n",
    "- Degrees of freedom: 9\n",
    "- Critical value: 16.9\n",
    "- Chi-square value: 53.5\n",
    "- Reject null hypothesis: Yes"
   ]
  },
  {
   "cell_type": "code",
   "execution_count": 6,
   "metadata": {},
   "outputs": [
    {
     "name": "stdout",
     "output_type": "stream",
     "text": [
      "9\n"
     ]
    }
   ],
   "source": [
    "# Calculate degrees of freedom\n",
    "print(mr.dof)"
   ]
  },
  {
   "cell_type": "code",
   "execution_count": 7,
   "metadata": {},
   "outputs": [
    {
     "name": "stdout",
     "output_type": "stream",
     "text": [
      "16.918977604620448\n"
     ]
    }
   ],
   "source": [
    "# calculate and print the critical value for rejecting the null hypothesis\n",
    "print(mr.critical_value())"
   ]
  },
  {
   "cell_type": "code",
   "execution_count": 8,
   "metadata": {},
   "outputs": [
    {
     "name": "stdout",
     "output_type": "stream",
     "text": [
      "53.45875777155747\n"
     ]
    }
   ],
   "source": [
    "# chi-square\n",
    "print(mr.chi2)"
   ]
  },
  {
   "cell_type": "code",
   "execution_count": 9,
   "metadata": {},
   "outputs": [
    {
     "name": "stdout",
     "output_type": "stream",
     "text": [
      "True\n"
     ]
    }
   ],
   "source": [
    "# determine and print whether the null hypothesis should be rejected\n",
    "print(mr.reject_null_hypothesis())"
   ]
  },
  {
   "attachments": {},
   "cell_type": "markdown",
   "metadata": {},
   "source": [
    "#### e. Generate and show row and column tables for mass, inertia and quality.  Which row has the highest inertia?  Which column has the highest quality?\n",
    "- Highest Row Inertia: White, with 0.217560\n",
    "- Highest Quality Column: Asian with 0.039193\n"
   ]
  },
  {
   "cell_type": "code",
   "execution_count": 15,
   "metadata": {},
   "outputs": [
    {
     "name": "stdout",
     "output_type": "stream",
     "text": [
      "Row Mass:\n",
      " RESP_RACE\n",
      "1    0.692308\n",
      "2    0.107226\n",
      "3    0.031080\n",
      "4    0.169386\n",
      "dtype: float64\n",
      "Column Mass:\n",
      " pizza\n",
      "1    0.306915\n",
      "2    0.303807\n",
      "3    0.121601\n",
      "4    0.267677\n",
      "dtype: float64\n"
     ]
    }
   ],
   "source": [
    "# perform correspondence analysis and return row and column dataframes, coordinates, and explained variance ratios\n",
    "tables = mr.correspondence_analysis()\n",
    "print(\"Row Mass:\\n\", tables[\"Row Mass\"])\n",
    "print(\"Column Mass:\\n\", tables[\"Column Mass\"])"
   ]
  },
  {
   "cell_type": "code",
   "execution_count": 16,
   "metadata": {},
   "outputs": [
    {
     "name": "stdout",
     "output_type": "stream",
     "text": [
      "Row Inertia:\n",
      "                Mass   Inertia\n",
      "RESP_RACE                    \n",
      "1          0.692308  0.217560\n",
      "2          0.107226  0.040016\n",
      "3          0.031080  0.010490\n",
      "4          0.169386  0.038850\n",
      "Column Inertia:\n",
      "            Mass   Inertia\n",
      "pizza                    \n",
      "1      0.306915  0.217560\n",
      "2      0.303807  0.197358\n",
      "3      0.121601  0.092463\n",
      "4      0.267677  0.184926\n"
     ]
    }
   ],
   "source": [
    "print(\"Row Inertia:\\n\", tables[\"Row Inertia\"])\n",
    "print(\"Column Inertia:\\n\", tables[\"Column Inertia\"])"
   ]
  },
  {
   "cell_type": "code",
   "execution_count": 17,
   "metadata": {},
   "outputs": [
    {
     "name": "stdout",
     "output_type": "stream",
     "text": [
      "Row Quality:\n",
      "                Mass   Quality\n",
      "RESP_RACE                    \n",
      "1          0.692308  0.005849\n",
      "2          0.107226  0.073883\n",
      "3          0.031080  0.004561\n",
      "4          0.169386  0.159844\n",
      "Column Quality:\n",
      "            Mass   Quality\n",
      "pizza                    \n",
      "1      0.306915  0.005849\n",
      "2      0.303807  0.038510\n",
      "3      0.121601  0.039193\n",
      "4      0.267677  0.000039\n"
     ]
    }
   ],
   "source": [
    "print(\"Row Quality:\\n\", tables[\"Row Quality\"])\n",
    "print(\"Column Quality:\\n\", tables[\"Column Quality\"])"
   ]
  },
  {
   "attachments": {},
   "cell_type": "markdown",
   "metadata": {},
   "source": [
    "#### h.\tGenerate and show the standardized adjusted residuals for each of the cells in the contingency table.  Which of these cells passes the test suggested by Sharpe for contributing significantly to the total chi square?"
   ]
  },
  {
   "cell_type": "code",
   "execution_count": 13,
   "metadata": {},
   "outputs": [
    {
     "data": {
      "text/html": [
       "<div>\n",
       "<style scoped>\n",
       "    .dataframe tbody tr th:only-of-type {\n",
       "        vertical-align: middle;\n",
       "    }\n",
       "\n",
       "    .dataframe tbody tr th {\n",
       "        vertical-align: top;\n",
       "    }\n",
       "\n",
       "    .dataframe thead th {\n",
       "        text-align: right;\n",
       "    }\n",
       "</style>\n",
       "<table border=\"1\" class=\"dataframe\">\n",
       "  <thead>\n",
       "    <tr style=\"text-align: right;\">\n",
       "      <th>pizza</th>\n",
       "      <th>1</th>\n",
       "      <th>2</th>\n",
       "      <th>3</th>\n",
       "      <th>4</th>\n",
       "    </tr>\n",
       "    <tr>\n",
       "      <th>RESP_RACE</th>\n",
       "      <th></th>\n",
       "      <th></th>\n",
       "      <th></th>\n",
       "      <th></th>\n",
       "    </tr>\n",
       "  </thead>\n",
       "  <tbody>\n",
       "    <tr>\n",
       "      <th>1</th>\n",
       "      <td>0.559168</td>\n",
       "      <td>-1.434807</td>\n",
       "      <td>1.447487</td>\n",
       "      <td>-0.045787</td>\n",
       "    </tr>\n",
       "    <tr>\n",
       "      <th>2</th>\n",
       "      <td>1.987387</td>\n",
       "      <td>-0.857356</td>\n",
       "      <td>-0.614814</td>\n",
       "      <td>-0.800299</td>\n",
       "    </tr>\n",
       "    <tr>\n",
       "      <th>3</th>\n",
       "      <td>0.493787</td>\n",
       "      <td>1.763787</td>\n",
       "      <td>1.049044</td>\n",
       "      <td>-3.114859</td>\n",
       "    </tr>\n",
       "    <tr>\n",
       "      <th>4</th>\n",
       "      <td>-2.923195</td>\n",
       "      <td>2.827323</td>\n",
       "      <td>-2.886540</td>\n",
       "      <td>2.063567</td>\n",
       "    </tr>\n",
       "  </tbody>\n",
       "</table>\n",
       "</div>"
      ],
      "text/plain": [
       "pizza             1         2         3         4\n",
       "RESP_RACE                                        \n",
       "1          0.559168 -1.434807  1.447487 -0.045787\n",
       "2          1.987387 -0.857356 -0.614814 -0.800299\n",
       "3          0.493787  1.763787  1.049044 -3.114859\n",
       "4         -2.923195  2.827323 -2.886540  2.063567"
      ]
     },
     "execution_count": 13,
     "metadata": {},
     "output_type": "execute_result"
    }
   ],
   "source": [
    "# calculate and print the standardized adjusted residuals of the contingency table\n",
    "mr.standardized_adjusted_residuals()"
   ]
  },
  {
   "cell_type": "code",
   "execution_count": 11,
   "metadata": {},
   "outputs": [
    {
     "data": {
      "image/png": "[encoded data removed]",
      "text/plain": [
       "<Figure size 800x600 with 2 Axes>"
      ]
     },
     "metadata": {},
     "output_type": "display_data"
    }
   ],
   "source": [
    "mr.plot_norm_association()"
   ]
  }
 ],
 "metadata": {
  "kernelspec": {
   "display_name": "base",
   "language": "python",
   "name": "python3"
  },
  "language_info": {
   "codemirror_mode": {
    "name": "ipython",
    "version": 3
   },
   "file_extension": ".py",
   "mimetype": "text/x-python",
   "name": "python",
   "nbconvert_exporter": "python",
   "pygments_lexer": "ipython3",
   "version": "3.10.9"
  },
  "orig_nbformat": 4
 },
 "nbformat": 4,
 "nbformat_minor": 2
}
